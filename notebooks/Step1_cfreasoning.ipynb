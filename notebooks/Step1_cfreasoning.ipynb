{
 "cells": [
  {
   "cell_type": "code",
   "execution_count": null,
   "metadata": {},
   "outputs": [],
   "source": [
    "from sklearn.model_selection import train_test_split\n",
    "import lightgbm as lgb\n",
    "from sklearn.metrics import *\n",
    "import pickle\n",
    "import lime\n",
    "from sklearn.preprocessing import MinMaxScaler\n",
    "from Step0_cfreasoning import *"
   ]
  },
  {
   "cell_type": "markdown",
   "metadata": {},
   "source": [
    "Here we generate a dataset to train an agent that evaluates the **LIME** explanation. For all local feature attribution explanations, we can swap out the function below with other explanation methods and evaluate in the same manner."
   ]
  },
  {
   "cell_type": "code",
   "execution_count": null,
   "metadata": {},
   "outputs": [],
   "source": [
    "def get_lime_exp(X_samples, wrapped_fn):\n",
    "    explainer = lime.lime_tabular.LimeTabularExplainer(X_samples, discretize_continuous=False, mode='regression')\n",
    "    lime_exp = []\n",
    "\n",
    "    for point in X_samples:\n",
    "        exp_obj = explainer.explain_instance(point, wrapped_fn, num_features=2, num_samples=1000).as_list()\n",
    "        exp_dict = dict(exp_obj)\n",
    "        exp_arr = [exp_dict['0'], exp_dict['1']]\n",
    "        lime_exp.append(exp_arr)\n",
    "\n",
    "    lime_exp = np.array(lime_exp)\n",
    "    return lime_exp"
   ]
  },
  {
   "cell_type": "markdown",
   "metadata": {},
   "source": [
    "## Generate dataset for this explainer\n",
    "\n",
    "This function generates a dataset where each data-point has an associated LIME explanation and ground truth label."
   ]
  },
  {
   "cell_type": "code",
   "execution_count": null,
   "metadata": {},
   "outputs": [],
   "source": [
    "def generate_dataset(N_total_observations, N_points_each_fn):\n",
    "    Xs = []\n",
    "    ys = []\n",
    "    us = []\n",
    "    limes = []\n",
    "\n",
    "    for i in range(N_total_observations):\n",
    "        if i % 100 == 0:\n",
    "            print(i)\n",
    "\n",
    "        data_f1 = SaddlePoint2D()\n",
    "        X_f, y_f, u_f = data_f1.generate_random_data(N = N_points_each_fn)\n",
    "\n",
    "        # train-test split\n",
    "        X_train, X_test, y_train, y_test, u_train, u_test = train_test_split(X_f, y_f, u_f, test_size=0.20, random_state=seed)\n",
    "        pred_model = get_base_model()\n",
    "        pred_model.fit(X_train, y_train)\n",
    "\n",
    "        def wrapped_fn(x):\n",
    "            p = pred_model.predict(x).reshape(-1, 1)\n",
    "            return p\n",
    "\n",
    "        X_explain, y_explain, u_explain = data_f1.sample_new_point()\n",
    "        lime_explain = get_lime_exp(X_explain, wrapped_fn=wrapped_fn)\n",
    "\n",
    "        Xs.append(X_explain)\n",
    "        us.append(u_explain)    \n",
    "        limes.append(lime_explain)\n",
    "    \n",
    "    return Xs, us, limes"
   ]
  },
  {
   "cell_type": "markdown",
   "metadata": {},
   "source": [
    "## Write out dataset"
   ]
  },
  {
   "cell_type": "code",
   "execution_count": null,
   "metadata": {},
   "outputs": [],
   "source": [
    "def save_dict(X, u, lime_exp,\n",
    "        filename: str):\n",
    "    \n",
    "    # dump X, Y, lime, and shap\n",
    "    data_df = {}\n",
    "    data_df['x'] = X\n",
    "    data_df['u'] = u\n",
    "    \n",
    "    data_df['lime'] = lime_exp\n",
    "    data_df['shap'] = shap_exp\n",
    "    data_df['gam'] = gam_exp\n",
    "    data_df['pred'] = pred\n",
    "    \n",
    "    pickle.dump(data_df, open(filename, \"wb\" ) )"
   ]
  },
  {
   "cell_type": "code",
   "execution_count": null,
   "metadata": {},
   "outputs": [],
   "source": [
    "Xs, us, limes = generate_dataset(6000, 5000)\n",
    "save_dict(Xs, us, limes, \"lime_dataset\")"
   ]
  }
 ],
 "metadata": {
  "kernelspec": {
   "display_name": "Python 3",
   "language": "python",
   "name": "python3"
  },
  "language_info": {
   "codemirror_mode": {
    "name": "ipython",
    "version": 3
   },
   "file_extension": ".py",
   "mimetype": "text/x-python",
   "name": "python",
   "nbconvert_exporter": "python",
   "pygments_lexer": "ipython3",
   "version": "3.8.5"
  }
 },
 "nbformat": 4,
 "nbformat_minor": 4
}
