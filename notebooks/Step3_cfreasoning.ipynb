{
 "cells": [
  {
   "cell_type": "code",
   "execution_count": null,
   "metadata": {},
   "outputs": [],
   "source": [
    "import pickle\n",
    "import pandas as pd\n",
    "import numpy as np"
   ]
  },
  {
   "cell_type": "code",
   "execution_count": null,
   "metadata": {},
   "outputs": [],
   "source": [
    "def load_train_accs(seed, N_train, exp_type):\n",
    "    return pickle.load(open('train_accs.pt', \"rb\" ) )\n",
    "\n",
    "def load_test_accs(seed, N_train, exp_type):\n",
    "    return pickle.load(open('test_accs.pt'', \"rb\" ) )"
   ]
  },
  {
   "cell_type": "code",
   "execution_count": null,
   "metadata": {},
   "outputs": [],
   "source": [
    "exp_types = ['lime']\n",
    "train_sizes = [4, 16, 64, 100, 1000]\n",
    "random_seeds = [0, 1, 2]\n",
    "\n",
    "train_results = {}\n",
    "test_results = {}\n",
    "\n",
    "for N_train in train_sizes:\n",
    "    test_results[N_train] = {}\n",
    "    train_results[N_train] = {}\n",
    "    for exp_type in exp_types:\n",
    "        exp_type_str = exp_type\n",
    "        if exp_type_str is None:\n",
    "            exp_type_str = 'baseline'\n",
    "            \n",
    "        test_results[N_train][exp_type_str] = load_test_accs(seed, N_train, exp_type)\n",
    "        train_results[N_train][exp_type_str] = load_train_accs(seed, N_train, exp_type)"
   ]
  },
  {
   "cell_type": "code",
   "execution_count": null,
   "metadata": {},
   "outputs": [],
   "source": [
    "for N_train in train_sizes:\n",
    "    for exp_type in exp_types:\n",
    "        exp_type_str = exp_type\n",
    "        plt.plot(epoch_X, train_results[N_train][exp_type_str], label=exp_type_str)\n",
    "        plt.ylabel('train set accuracy')\n",
    "        plt.xlabel('epoch')\n",
    "    plt.legend()\n",
    "    plt.title(f'N = {N_train}')\n",
    "    plt.show()"
   ]
  },
  {
   "cell_type": "code",
   "execution_count": null,
   "metadata": {},
   "outputs": [],
   "source": [
    "for N_train in train_sizes:\n",
    "    for exp_type in exp_types:\n",
    "        exp_type_str = exp_type\n",
    "        # plt.plot(epoch_X, train_results[N_train][exp_type_str], label=exp_type_str)\n",
    "        plt.plot(epoch_X, test_results[N_train][exp_type_str], label=exp_type_str)\n",
    "        plt.ylabel('test set accuracy')\n",
    "        plt.xlabel('epoch')\n",
    "    plt.legend()\n",
    "    plt.title(f'N = {N_train}')\n",
    "    plt.show()"
   ]
  }
 ],
 "metadata": {
  "kernelspec": {
   "display_name": "Python 3",
   "language": "python",
   "name": "python3"
  },
  "language_info": {
   "codemirror_mode": {
    "name": "ipython",
    "version": 3
   },
   "file_extension": ".py",
   "mimetype": "text/x-python",
   "name": "python",
   "nbconvert_exporter": "python",
   "pygments_lexer": "ipython3",
   "version": "3.8.5"
  }
 },
 "nbformat": 4,
 "nbformat_minor": 4
}
