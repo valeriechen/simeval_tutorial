{
 "cells": [
  {
   "cell_type": "code",
   "execution_count": null,
   "metadata": {},
   "outputs": [],
   "source": [
    "import numpy as np\n",
    "import pandas as pd"
   ]
  },
  {
   "cell_type": "code",
   "execution_count": null,
   "metadata": {},
   "outputs": [],
   "source": [
    "seed = 0\n",
    "np.random.seed(seed)"
   ]
  },
  {
   "cell_type": "markdown",
   "metadata": {},
   "source": [
    "## Defines the base dataset and ground truth label"
   ]
  },
  {
   "cell_type": "code",
   "execution_count": null,
   "metadata": {},
   "outputs": [],
   "source": [
    "class SaddlePoint2D():\n",
    "    def __init__(self, x1_range = 10, x2_range = 10, rescale_y_max = 30, rescale_y_int = 10):            \n",
    "        \n",
    "        self.x1_int = np.random.uniform(low=10, high=15, size=1).round(1)\n",
    "        self.x2_int = np.random.uniform(low=10, high=15, size=1).round(1)\n",
    "        self.y_int = 30\n",
    "        self.x1_range = x1_range\n",
    "        self.x2_range = x2_range\n",
    "        \n",
    "        self.x2_int_rescaled = self.x2_int\n",
    "        \n",
    "        x2_coef = 1\n",
    "        if np.random.uniform() > 0.5:\n",
    "            x2_coef = -1\n",
    "        x1_coef = -1 * x2_coef\n",
    "        \n",
    "        self.x1_coef = x1_coef\n",
    "        self.x2_coef = x2_coef\n",
    "        \n",
    "        self.rescale_y_max = rescale_y_max\n",
    "        self.rescale_y_int = rescale_y_int\n",
    "        \n",
    "        x1_extrema_vals = [x1_int - x1_range / 2, x1_int, x1_int + x1_range / 2]\n",
    "        x2_extrema_vals = [x2_int - x2_range / 2, x2_int, x2_int + x2_range / 2]\n",
    "                \n",
    "    def generate_y(self, X1, X2):\n",
    "        return self.x1_coef * (X1 - self.x1_int)**2 + self.x2_coef * (X2 - self.x2_int)**2 + self.y_int\n",
    "    \n",
    "    def gt_X2_increasing(self, X2):\n",
    "        '''\n",
    "        Returns ground truth label for a given point\n",
    "        '''\n",
    "        if self.x2_coef == -1:\n",
    "            return X2 <= self.x2_int\n",
    "        elif self.x2_coef == 1:\n",
    "            return X2 > self.x2_int\n",
    "        \n",
    "    def rescale_array(self, arr, new_range, new_intercept):\n",
    "        return new_range * arr - new_range / 2 + new_intercept\n",
    "\n",
    "    def generate_random_data(self, N, standardize = False):\n",
    "        '''\n",
    "        Returns N points sampled from y = (X1 - x1_int)^2 - (X2 - x2_int)^2\n",
    "        '''\n",
    "        X1 = self.rescale_array(np.random.rand(N), self.x1_range, self.x1_int)\n",
    "        X2 = self.rescale_array(np.random.rand(N), self.x2_range, self.x2_int)\n",
    "\n",
    "        y = self.generate_y(X1, X2)\n",
    "\n",
    "        X = np.stack((X1, X2), axis=1)\n",
    "\n",
    "        gt_increasing = self.gt_X2_increasing(X2)\n",
    "\n",
    "        return X, y, gt_increasing\n",
    "\n",
    "    def sample_new_point(self):\n",
    "        shift = (15-10)/4\n",
    "        X1_explain = [np.random.uniform(low=10 + shift, high=15- shift, size=1)[0]]\n",
    "        X2_explain = [np.random.uniform(low=10 + shift, high=15- shift, size=1)[0]]\n",
    "        X_explain = np.stack((X1_explain, X2_explain), axis=1)\n",
    "        y_explain = self.generate_y(X1_explain, X2_explain)\n",
    "        u_explain = self.gt_X2_increasing(X2_explain)\n",
    "        \n",
    "        return X_explain, y_explain, u_explain"
   ]
  },
  {
   "cell_type": "markdown",
   "metadata": {},
   "source": [
    "## Define base model"
   ]
  },
  {
   "cell_type": "code",
   "execution_count": null,
   "metadata": {},
   "outputs": [],
   "source": [
    "import lightgbm as lgb\n",
    "\n",
    "def get_base_model():\n",
    "    pred_model = lgb.LGBMRegressor()\n",
    "    return pred_model"
   ]
  }
 ],
 "metadata": {
  "kernelspec": {
   "display_name": "Python 3",
   "language": "python",
   "name": "python3"
  },
  "language_info": {
   "codemirror_mode": {
    "name": "ipython",
    "version": 3
   },
   "file_extension": ".py",
   "mimetype": "text/x-python",
   "name": "python",
   "nbconvert_exporter": "python",
   "pygments_lexer": "ipython3",
   "version": "3.8.5"
  }
 },
 "nbformat": 4,
 "nbformat_minor": 4
}
